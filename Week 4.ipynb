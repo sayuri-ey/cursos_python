{
 "cells": [
  {
   "cell_type": "code",
   "execution_count": 34,
   "id": "05380217",
   "metadata": {},
   "outputs": [
    {
     "name": "stdout",
     "output_type": "stream",
     "text": [
      "Digite um número: 55\n",
      "10\n"
     ]
    }
   ],
   "source": [
    "numero=input(\"Digite um número: \")\n",
    "caracteres=len(numero)\n",
    "soma=0\n",
    "i=0\n",
    "j=10\n",
    "\n",
    "while i<caracteres:\n",
    "    soma=int(numero)%j+soma\n",
    "    numero=int(numero)//j\n",
    "    i=i+1\n",
    "print(soma)"
   ]
  },
  {
   "cell_type": "markdown",
   "id": "8997894d",
   "metadata": {},
   "source": [
    "somar sequencia de numeros pex 6532; 6+5+3+2=12"
   ]
  },
  {
   "cell_type": "code",
   "execution_count": 44,
   "id": "0712ec8e",
   "metadata": {},
   "outputs": [
    {
     "name": "stdout",
     "output_type": "stream",
     "text": [
      "Faça n! do número: 0\n",
      "n! = 1\n"
     ]
    }
   ],
   "source": [
    "n=int(input(\"Faça n! do número: \"))\n",
    "nf=n\n",
    "\n",
    "if n==0:\n",
    "    nf=1\n",
    "else:\n",
    "    while n>1:\n",
    "        nf=nf*(n-1)\n",
    "        n=n-1\n",
    "print(\"n! =\",nf)"
   ]
  },
  {
   "cell_type": "markdown",
   "id": "09316d2e",
   "metadata": {},
   "source": [
    "Exercício 1\n",
    "Escreva um programa que receba um número natural  n n na entrada e imprima  n! n! (fatorial) na saída.\n",
    "\n",
    "Exemplo:\n",
    "\n",
    "12\n",
    "Digite o valor de n: 5\n",
    "120\n",
    "Dica: lembre-se que o fatorial de 0 vale 1!"
   ]
  },
  {
   "cell_type": "code",
   "execution_count": 46,
   "id": "e53cacf4",
   "metadata": {},
   "outputs": [
    {
     "name": "stdout",
     "output_type": "stream",
     "text": [
      "Digite um número inteiro positivo: 5\n",
      "1\n",
      "3\n",
      "5\n",
      "7\n",
      "9\n"
     ]
    }
   ],
   "source": [
    "n=int(input(\"Digite um número inteiro positivo: \"))\n",
    "i=1\n",
    "j=0\n",
    "\n",
    "while i<=n:\n",
    "    print(i+j)\n",
    "    i+=1\n",
    "    j+=1\n",
    "    "
   ]
  },
  {
   "cell_type": "markdown",
   "id": "ed154b26",
   "metadata": {},
   "source": [
    "Exercício 2\n",
    "Receba um número inteiro positivo na entrada e imprima os  n n primeiros números ímpares naturais. Para a saída, siga o formato do exemplo abaixo.\n",
    "\n",
    "Exemplo:\n",
    "\n",
    "123456\n",
    "Digite o valor de n: 5\n",
    "1\n",
    "3\n",
    "5\n",
    "7\n",
    "9\n"
   ]
  },
  {
   "cell_type": "code",
   "execution_count": null,
   "id": "be3d3f6c",
   "metadata": {},
   "outputs": [],
   "source": [
    "numero=input(\"Digite um número: \")\n",
    "caracteres=len(numero)\n",
    "soma=0\n",
    "i=0\n",
    "j=10\n",
    "\n",
    "while i<caracteres:\n",
    "    soma=int(numero)%j+soma\n",
    "    numero=int(numero)//j\n",
    "    i=i+1\n",
    "print(soma)"
   ]
  },
  {
   "cell_type": "markdown",
   "id": "b33e4fc5",
   "metadata": {},
   "source": [
    "Exercício 3\n",
    "  Escreva um programa que receba um número inteiro na entrada, calcule e imprima a soma dos dígitos deste número na saída\n",
    "\n",
    "Exemplo:\n",
    "\n",
    "12\n",
    "Digite um número inteiro: 123\n",
    "6\n",
    "Dica: Para separar os dígitos, lembre-se: o operador \"//\" faz uma divisão inteira jogando fora o resto, ou seja, aquilo que é menor que o divisor; O operador \"%\" devolve apenas o resto da divisão inteira jogando fora o resultado, ou seja, tudo que é maior ou igual ao divisor."
   ]
  },
  {
   "cell_type": "markdown",
   "id": "cfc572ca",
   "metadata": {},
   "source": [
    "# Opcionais "
   ]
  },
  {
   "cell_type": "code",
   "execution_count": null,
   "id": "3ca4d931",
   "metadata": {},
   "outputs": [],
   "source": []
  },
  {
   "cell_type": "markdown",
   "id": "6729878a",
   "metadata": {},
   "source": [
    "Exercício 1\n",
    "Escreva um programa que receba um número inteiro positivo na entrada e verifique se é primo. Se o número for primo, imprima \"primo\". Caso contrário, imprima \"não primo\".\n",
    "\n",
    "Exemplos:\n",
    "\n",
    "12\n",
    "Digite um número inteiro: 13\n",
    "primo\n",
    "12\n",
    "Digite um número inteiro: 12\n",
    "não primo\n"
   ]
  },
  {
   "cell_type": "code",
   "execution_count": null,
   "id": "4648fbae",
   "metadata": {},
   "outputs": [],
   "source": []
  },
  {
   "cell_type": "markdown",
   "id": "10a8c58c",
   "metadata": {},
   "source": [
    "Exercício 2 - Desafio do vídeo \"Repetição com while\"\n",
    "Escreva um programa que receba um número inteiro na entrada e verifique se o número recebido possui ao menos um dígito com um dígito adjacente igual a ele. Caso exista, imprima \"sim\"; se não existir, imprima \"não\".\n",
    "\n",
    "Exemplos:\n",
    "\n",
    "12\n",
    "Digite um número inteiro: 12345\n",
    "não\n",
    "2"
   ]
  },
  {
   "cell_type": "code",
   "execution_count": 1,
   "id": "8e0f3e4f",
   "metadata": {},
   "outputs": [
    {
     "name": "stdout",
     "output_type": "stream",
     "text": [
      "Digite um número, ou zero para terminar: 8\n",
      "Digite um número, ou zero para terminar: 7\n",
      "Digite um número, ou zero para terminar: 0\n",
      "P =  1\n",
      "I =  1\n"
     ]
    }
   ],
   "source": [
    "terminou = False\n",
    "p = i = 0\n",
    "while (not terminou):\n",
    "    n = int(input(\"Digite um número, ou zero para terminar: \"))\n",
    "    if n == 0:\n",
    "        terminou = True\n",
    "    else:\n",
    "        if n % 2 == 0:\n",
    "            p = p + 1\n",
    "        else:\n",
    "            i = i + 1\n",
    "\n",
    "print (\"P = \", p)\n",
    "print (\"I = \", i)"
   ]
  },
  {
   "cell_type": "code",
   "execution_count": null,
   "id": "3d974edd",
   "metadata": {},
   "outputs": [],
   "source": []
  }
 ],
 "metadata": {
  "kernelspec": {
   "display_name": "Python 3",
   "language": "python",
   "name": "python3"
  },
  "language_info": {
   "codemirror_mode": {
    "name": "ipython",
    "version": 3
   },
   "file_extension": ".py",
   "mimetype": "text/x-python",
   "name": "python",
   "nbconvert_exporter": "python",
   "pygments_lexer": "ipython3",
   "version": "3.7.10"
  }
 },
 "nbformat": 4,
 "nbformat_minor": 5
}
