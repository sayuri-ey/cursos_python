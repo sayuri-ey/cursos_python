{
 "cells": [
  {
   "cell_type": "code",
   "execution_count": 1,
   "id": "b1b6f744",
   "metadata": {},
   "outputs": [
    {
     "name": "stdout",
     "output_type": "stream",
     "text": [
      "Digite o valor correspondente ao lado de um quadrado: 5\n",
      "perímetro:  20 - área:  25\n"
     ]
    }
   ],
   "source": [
    "lado_quadrado=int(input(\"Digite o valor correspondente ao lado de um quadrado: \"))\n",
    "perimetro=4*lado_quadrado\n",
    "area= lado_quadrado ** 2\n",
    "print (\"perímetro: \", perimetro, \"- área: \",area)"
   ]
  },
  {
   "cell_type": "markdown",
   "id": "6076dbb0",
   "metadata": {},
   "source": [
    "Exercício 1\n",
    "Faça um programa em Python que receba (entrada de dados) o valor correspondente ao lado de um quadrado, calcule e imprima (saída de dados) seu perímetro e sua área.\n",
    "\n",
    "Observação: a saída deve estar no formato: \"perímetro: x - área: y\"\n",
    "\n",
    "Abaixo um exemplo de como devem ser a entrada e saída de dados do programa:\n",
    "\n",
    "Exemplo:\n",
    "\n",
    "Entrada de Dados: \n",
    "Digite o valor correspondente ao lado de um quadrado: 3\n",
    "\n",
    "Saída de Dados:\n",
    "perímetro: 12 - área: 9\n",
    "\n",
    "Dica: lembre-se que um quadrado tem quatro lados iguais, logo só é necessário pedir o lado uma vez"
   ]
  },
  {
   "cell_type": "code",
   "execution_count": 2,
   "id": "6b2926c3",
   "metadata": {},
   "outputs": [
    {
     "name": "stdout",
     "output_type": "stream",
     "text": [
      "Digite a primeira nota: 1\n",
      "Digite a segunda nota: 2\n",
      "Digite a terceira nota: 6\n",
      "Digite a quarta nota: 100\n",
      "A média aritmética é  27.25\n"
     ]
    }
   ],
   "source": [
    "#Programa para calcular e imprimir média aritmética de notas informadas ao programa\n",
    "primeira_nota=int(input(\"Digite a primeira nota: \"))\n",
    "segunda_nota=int(input(\"Digite a segunda nota: \"))\n",
    "terceira_nota=int(input(\"Digite a terceira nota: \"))\n",
    "quarta_nota=int(input(\"Digite a quarta nota: \"))\n",
    "media_aritmetica=(primeira_nota+segunda_nota+terceira_nota+quarta_nota)/4\n",
    "print(\"A média aritmética é \",media_aritmetica)"
   ]
  },
  {
   "cell_type": "markdown",
   "id": "02f38710",
   "metadata": {},
   "source": [
    "Exercício 2\n",
    "Faça um programa em Python que receba quatro notas, calcule e imprima a média aritmética. Observe o exemplo abaixo:\n",
    "\n",
    "Exemplo:\n",
    "\n",
    "Entrada de Dados:\n",
    "Digite a primeira nota: 4\n",
    "\n",
    "Digite a segunda nota: 5\n",
    "\n",
    "Digite a terceira nota: 6\n",
    "\n",
    "Digite a quarta nota: 7\n",
    "\n",
    "Saída de Dados:\n",
    "A média aritmética é 5.5"
   ]
  },
  {
   "cell_type": "markdown",
   "id": "c465a67a",
   "metadata": {},
   "source": [
    "# Opcionais"
   ]
  },
  {
   "cell_type": "markdown",
   "id": "7d25fe66",
   "metadata": {},
   "source": [
    "Exercício 1 Uma empresa de cartão de crédito envia suas faturas por email com a seguinte mensagem:\n",
    "\n",
    "Saída de dados Olá, Fulano de Tal A sua fatura com vencimento em 9 de Janeiro no valor de R$ 350,00 está fechada.\n",
    "\n",
    "Escreva um programa que receba (entrada de dados através do teclado) o nome do cliente, o dia de vencimento, o mês de vencimento e o valor da fatura e imprima (saída de dados) a mensagem com os dados recebidos, no mesmo formato da mensagem acima. Note que o programa imprime a saída em duas linhas diferentes. Note também que, como não é preciso realizar cálculos, o valor não precisa ser convertido para número, pode ser tratado como texto.\n",
    "\n",
    "Abaixo um exemplo de como deve ser a entrada e saída de dados do programa:\n",
    "\n",
    "Exemplo:\n",
    "\n",
    "Entrada de Dados: Digite o nome do cliente: Fulano de Tal Digite o dia de vencimento: 9 Digite o mês de vencimento: Janeiro Digite o valor da fatura: 350,00"
   ]
  },
  {
   "cell_type": "code",
   "execution_count": null,
   "id": "47004d38",
   "metadata": {},
   "outputs": [],
   "source": [
    "nome_cliente=str(input(\"Digite o nome do cliente: \"))\n",
    "dia_do_vencimento=int(input(\"Digite o dia de vencimento: \"))\n",
    "mes_do_vencimento=str(input(\"Digite o mês de vencimento: \"))\n",
    "valor_da_fatura=str(input(\"Digite o valor da fatura: \"))\n",
    "    \n",
    "print (\"Olá,\",nome_cliente)\n",
    "print(\"A sua fatura com vencimento em\",dia_do_vencimento,\"de\",mes_do_vencimento,\"no valor de R$\",valor_da_fatura,\"está fechada.\")"
   ]
  },
  {
   "cell_type": "markdown",
   "id": "0f9e092b",
   "metadata": {},
   "source": [
    "Por favor, entre com o número de segundos que deseja converter: 3620\n",
    "0  dias,  1 horas,  0 minutos e  20 segundos\n",
    "Exercício 2 Este é o desafio do vídeo \"Entrada de Dados\".\n",
    "\n",
    "Reescreva o programa contaSegundos para imprimir também a quantidade de dias, ou seja, faça um programa em Python que, dada a quantidade de segundos, \"quebre\" esse valor em dias, horas, minutos e segundos. A saída deve estar no formato: a dias, b horas, c minutos e d segundos. Seja cuidadoso com o formato! Espaços a mais, vírgulas faltando ou outras diferenças são considerados erro\n",
    "\n",
    "Abaixo um exemplo de como deve ser a entrada e saída de dados do programa:\n",
    "\n",
    "Exemplo:\n",
    "\n",
    "Entrada de Dados: Por favor, entre com o número de segundos que deseja converter: 178615\n",
    "\n",
    "Saída de Dados: 2 dias, 1 horas, 36 minutos e 55 segundos."
   ]
  },
  {
   "cell_type": "code",
   "execution_count": null,
   "id": "5885658c",
   "metadata": {},
   "outputs": [],
   "source": [
    "segundos_entrada=int(input(\"Por favor, entre com o número de segundos que deseja converter: \"))\n",
    "dias=segundos_entrada//86400\n",
    "horas=segundos_entrada%86400//3600\n",
    "minutos=segundos_entrada%86400%3600//60\n",
    "segundos=segundos_entrada%86400%3600%60\n",
    "print (dias,\" dias, \",horas,\"horas, \",minutos,\"minutos e \",segundos,\"segundos\")"
   ]
  },
  {
   "cell_type": "markdown",
   "id": "329eaf56",
   "metadata": {},
   "source": [
    "Digite um número inteiro: 112\n",
    "O dígito das dezenas é  1\n",
    "Exercício 3 Faça um programa em Python que recebe um número inteiro e imprime seu dígito das dezenas. Observe o exemplo abaixo:\n",
    "\n",
    "Exemplo 1:\n",
    "\n",
    "Entrada de Dados: Digite um número inteiro: 78615\n",
    "\n",
    "Saída de Dados: O dígito das dezenas é 1\n",
    "\n",
    "Exemplo 2:\n",
    "\n",
    "Entrada de Dados: Digite um número inteiro: 2\n",
    "\n",
    "Saída de Dados: O dígito das dezenas é 0\n",
    "\n",
    "Dica: O operador \"//\" faz uma divisão inteira jogando fora o resto, ou seja, aquilo que é menor que o divisor. O operador \"%\" devolve apenas o resto da divisão inteira jogando fora o resultado, ou seja, tudo que é maior ou igual ao divisor."
   ]
  },
  {
   "cell_type": "code",
   "execution_count": null,
   "id": "b0d282a6",
   "metadata": {},
   "outputs": [],
   "source": [
    "inteiro=str(input(\"Digite um número inteiro: \"))\n",
    "\n",
    "if len(inteiro)>=2:\n",
    "    dezena=inteiro[-2]\n",
    "    print(\"O dígito das dezenas é \",dezena)\n",
    "else:\n",
    "    print(\"O dígito das dezenas é 0\")"
   ]
  }
 ],
 "metadata": {
  "kernelspec": {
   "display_name": "Python 3",
   "language": "python",
   "name": "python3"
  },
  "language_info": {
   "codemirror_mode": {
    "name": "ipython",
    "version": 3
   },
   "file_extension": ".py",
   "mimetype": "text/x-python",
   "name": "python",
   "nbconvert_exporter": "python",
   "pygments_lexer": "ipython3",
   "version": "3.7.10"
  }
 },
 "nbformat": 4,
 "nbformat_minor": 5
}
