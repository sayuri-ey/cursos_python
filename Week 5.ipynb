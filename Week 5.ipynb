{
 "cells": [
  {
   "cell_type": "markdown",
   "id": "b3a96442",
   "metadata": {},
   "source": [
    "Exercício 1 - Máximo\n",
    "Escreva a função maximo que recebe 2 números inteiros como parâmetro e devolve o maior deles.\n",
    "\n",
    "Exemplos de execução no shell do Python:\n",
    "\n",
    "1234\n"
   ]
  },
  {
   "cell_type": "code",
   "execution_count": 3,
   "id": "dd2648c0",
   "metadata": {},
   "outputs": [
    {
     "output_type": "execute_result",
     "data": {
      "text/plain": [
       "70"
      ]
     },
     "metadata": {},
     "execution_count": 3
    }
   ],
   "source": [
    "def maximo(x,y):\n",
    "    if x>y:\n",
    "        return x\n",
    "    else:\n",
    "        return y\n",
    "\n",
    "maximo(70,6)"
   ]
  },
  {
   "cell_type": "markdown",
   "id": "1562bf69",
   "metadata": {},
   "source": [
    "Exercício 2 - Primos\n",
    "Escreva a função maior_primo que recebe um número inteiro maior ou igual a 2 como parâmetro e devolve o maior número primo menor ou igual ao número passado à função\n",
    "\n",
    "Exemplos de execução no shell do Python:\n",
    "\n",
    "1234\n",
    ">>> maior_primo(100)\n",
    "97\n",
    ">>> maior_primo(7)\n",
    "7\n",
    "Dica: escreva uma função éPrimo(k) e faça um laço percorrendo os números até o número dado checando se o número é primo ou não; se for, guarde numa variável. Ao fim do laço, o valor armazenado na variável é o maior primo encontrado."
   ]
  },
  {
   "cell_type": "code",
   "execution_count": 33,
   "id": "aad7c337",
   "metadata": {},
   "outputs": [
    {
     "output_type": "stream",
     "name": "stdout",
     "text": [
      "7\n"
     ]
    }
   ],
   "source": [
    "def eprimo(k):\n",
    "    i=2\n",
    "    while i in range(k+1):\n",
    "        if k%i!=0:\n",
    "            i+=1\n",
    "            continue\n",
    "        if i==k:\n",
    "            return True\n",
    "        else: \n",
    "            return False\n",
    "\n",
    "def maior_primo(x):\n",
    "    i=x\n",
    "    while i in range(x+1):\n",
    "        if eprimo(i) is True:\n",
    "            return i\n",
    "        else:\n",
    "            i-=1\n",
    "            continue"
   ]
  },
  {
   "cell_type": "markdown",
   "id": "94180f07",
   "metadata": {},
   "source": [
    "Exercício 3 - Vogais\n",
    "Escreva a função vogal que recebe um único caractere como parâmetro e devolve True se ele for uma vogal e False se for uma consoante.\n",
    "\n",
    "Exemplos de execução no shell de Python\n",
    "\n",
    "3456\n",
    ">>> vogal(\"a\")\n",
    "True\n",
    ">>> vogal(\"b\")\n",
    "False\n",
    ">>> vogal(\"E\")\n",
    "True\n",
    "Os valores True e False devolvidos devem ser do tipo bool (booleanos), e não strings\n",
    "\n",
    "Dica: Lembre-se que para passar uma vogal como parâmetro ela precisa ser um texto, ou seja, precisa estar entre aspas."
   ]
  },
  {
   "cell_type": "code",
   "execution_count": 4,
   "id": "b7ec4643",
   "metadata": {},
   "outputs": [
    {
     "output_type": "stream",
     "name": "stdout",
     "text": [
      "False\n"
     ]
    }
   ],
   "source": [
    "def vogal(x):\n",
    "    if x in (\"a\", \"e\", \"i\", \"o\", \"u\", \"A\", \"E\", \"I\", \"O\", \"U\"):\n",
    "        return True\n",
    "    else:\n",
    "        return False"
   ]
  },
  {
   "cell_type": "markdown",
   "id": "2cb6e8c3",
   "metadata": {},
   "source": [
    "# Opcionais"
   ]
  },
  {
   "cell_type": "code",
   "execution_count": null,
   "id": "1fe8d0e3",
   "metadata": {},
   "outputs": [],
   "source": []
  },
  {
   "cell_type": "markdown",
   "id": "efc01418",
   "metadata": {},
   "source": [
    "Exercício 1 - FizzBuzz\n",
    "Escreva a função fizzbuzz que recebe como parâmetro um número inteiro e devolve\n",
    "\n",
    "'Fizz' se o número for divisível por 3 e não for divisível por 5;\n",
    "\n",
    "'Buzz' se o número for divisível por 5 e não for divisível por 3;\n",
    "\n",
    "'FizzBuzz' se o número for divisível por 3 e por 5;\n",
    "\n",
    "Caso o número não seja divisível 3 e também não seja divisível por 5, ela deve devolver o número recebido como parâmetro.\n",
    "\n",
    "Exemplos de execução no Python Shell\n",
    "\n",
    "12345678\n",
    ">>>fizzbuzz(3)\n",
    "\"Fizz\"\n",
    ">>>fizzbuzz(5)\n",
    "\"Buzz\"\n",
    ">>>fizzbuzz(15)\n",
    "\"FizzBuzz\"\n",
    ">>>fizzbuzz(4)\n",
    "4\n",
    "As cadeias de caracteres Fizz e Buzz devem respeitar letras maiúsculas e minúsculas"
   ]
  },
  {
   "cell_type": "code",
   "execution_count": null,
   "id": "5fcc1c1a",
   "metadata": {},
   "outputs": [],
   "source": []
  },
  {
   "cell_type": "markdown",
   "id": "f5ed20ee",
   "metadata": {},
   "source": [
    "Exercício 2 - Máximo com 3 parâmetros\n",
    "Reescreva a função 'maximo' do outro exercício, que devolve o maior valor dentre dois inteiros recebidos, para que ela passe a receber 3 valores inteiros como parâmetros e devolva o maior dentre eles.\n",
    "\n",
    "Exemplos de execução no Python Shell\n",
    "\n",
    "1234\n"
   ]
  }
 ],
 "metadata": {
  "kernelspec": {
   "name": "python3",
   "display_name": "Python 3.9.5 64-bit"
  },
  "language_info": {
   "codemirror_mode": {
    "name": "ipython",
    "version": 3
   },
   "file_extension": ".py",
   "mimetype": "text/x-python",
   "name": "python",
   "nbconvert_exporter": "python",
   "pygments_lexer": "ipython3",
   "version": "3.9.5"
  },
  "interpreter": {
   "hash": "7812ea015bdcee6f23a998adcdd2ef97c151c0c241b7b7070987d9313e41299d"
  }
 },
 "nbformat": 4,
 "nbformat_minor": 5
}