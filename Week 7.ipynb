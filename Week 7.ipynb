{
 "metadata": {
  "language_info": {
   "codemirror_mode": {
    "name": "ipython",
    "version": 3
   },
   "file_extension": ".py",
   "mimetype": "text/x-python",
   "name": "python",
   "nbconvert_exporter": "python",
   "pygments_lexer": "ipython3",
   "version": "3.9.5"
  },
  "orig_nbformat": 4,
  "kernelspec": {
   "name": "python3",
   "display_name": "Python 3.9.5 64-bit"
  },
  "interpreter": {
   "hash": "7812ea015bdcee6f23a998adcdd2ef97c151c0c241b7b7070987d9313e41299d"
  }
 },
 "nbformat": 4,
 "nbformat_minor": 2,
 "cells": [
  {
   "source": [
    "Exercício 1\n",
    "Escreva um programa que recebe como entradas (utilize a função input) dois números inteiros correspondentes à largura e à altura de um retângulo, respectivamente. O programa deve imprimir uma cadeia de caracteres que represente o retângulo informado com caracteres '#' na saída.\n",
    "\n",
    "Por exemplo:\n",
    "\n",
    "54321\n",
    "digite a largura: 10\n",
    "digite a altura: 3\n",
    "##########\n",
    "##########\n",
    "##########\n",
    "4321\n",
    "digite a largura: 2\n",
    "digite a altura: 2\n",
    "##\n",
    "##\n",
    "Dica: lembre-se que a função print pode receber um parametro 'end', que altera o último caractere da cadeia, tornando possível a remoção da quebra de linha (reveja as vídeo-aulas)\n",
    "\n"
   ],
   "cell_type": "markdown",
   "metadata": {}
  },
  {
   "cell_type": "code",
   "execution_count": 15,
   "metadata": {},
   "outputs": [
    {
     "output_type": "stream",
     "name": "stdout",
     "text": [
      "##########\n##########\n##########\n##########\n##########\n"
     ]
    }
   ],
   "source": [
    "altura=int(input(\"Altura do retângulo: \"))\n",
    "largura=int(input(\"Largura do retângulo: \"))\n",
    "\n",
    "i=1\n",
    "j=1\n",
    "while j in range(altura+1):\n",
    "    while i in range(largura+1):\n",
    "        print(\"#\",end=\"\")\n",
    "        i+=1\n",
    "    print(\"\")\n",
    "    j+=1\n",
    "    i=1\n"
   ]
  },
  {
   "source": [
    "Exercício 2\n",
    "Refaça o exercício 1 imprimindo os retângulos sem preenchimento, de forma que os caracteres que não estiverem na borda do retângulo sejam espaços.\n",
    "\n",
    "Por exemplo:\n",
    "\n",
    "12345\n",
    "digite a largura: 10\n",
    "digite a altura: 3\n",
    "##########\n",
    "#        #\n",
    "##########\n",
    "4321\n"
   ],
   "cell_type": "markdown",
   "metadata": {}
  },
  {
   "cell_type": "code",
   "execution_count": 20,
   "metadata": {},
   "outputs": [
    {
     "output_type": "stream",
     "name": "stdout",
     "text": [
      "##########\n#        #\n#        #\n#        #\n##########\n"
     ]
    }
   ],
   "source": [
    "altura=int(input(\"Altura do retângulo: \"))\n",
    "largura=int(input(\"Largura do retângulo: \"))\n",
    "\n",
    "i=1\n",
    "j=1\n",
    "while j in range(altura+1):\n",
    "    if j==1 or j==altura:\n",
    "        while i in range(largura+1):\n",
    "            print(\"#\",end=\"\")\n",
    "            i+=1\n",
    "    else:\n",
    "        while i in range(largura+1):\n",
    "            if i==1 or i==largura:\n",
    "                print(\"#\",end=\"\")\n",
    "            else:\n",
    "                print(\" \",end=\"\")\n",
    "            i+=1\n",
    "    print(\"\")\n",
    "    j+=1\n",
    "    i=1"
   ]
  },
  {
   "source": [
    "Exercício 1 - Primos\n",
    "Escreva a função n_primos que recebe como argumento um número inteiro maior ou igual a 2 como parâmetro e devolve a quantidade de números primos que existem entre 2 e n (incluindo 2 e, se for o caso, n).\n",
    "\n",
    "Exemplo:\n",
    "\n",
    "123456\n",
    ">>>n_primos(2)\n",
    "1\n",
    ">>>n_primos(4)\n",
    "2\n",
    ">>>n_primos(121)\n",
    "30\n"
   ],
   "cell_type": "markdown",
   "metadata": {}
  },
  {
   "source": [
    "Exercício 2 - (Difícil) Soma das hipotenusas\n",
    "Dizemos que um número é uma hipotenusa de um triângulo inteiro se existe um triângulo retângulo com lados inteiros cuja hipotenusa é igual a esse número. Em outras palavras, nn é uma hipotenusa se existem números inteiros ii e jj tais que:\n",
    "\n",
    " n^2 = i^2 + j^2 n \n",
    "2\n",
    " =i \n",
    "2\n",
    " +j \n",
    "2\n",
    " \n",
    "\n",
    "Escreva uma função soma_hipotenusas que receba como parâmetro um número inteiro positivo  n n e devolva a soma de todos os inteiros entre 1 e  n n que são comprimento da hipotenusa de algum triângulo retângulo com catetos inteiros.\n",
    "\n",
    "DIca1: um mesmo número pode ser hipotenusa de vários triângulos, mas deve ser somado apenas uma vez. Uma boa solução para este exercício é fazer um laço de 1 até  n n testando se o número é hipotenusa de algum triângulo e somando em caso afirmativo. Uma solução que dificilmente vai dar certo é fazer um laço construindo triângulos e somando as hipotenusas inteiras encontradas.\n",
    "\n",
    "Dica2: primeiro faça uma função é_hipotenusa que diz se um número inteiro é o comprimento da hipotenusa de um triângulo com lados de comprimento inteiro ou não.\n",
    "\n",
    "Exemplo: \n",
    "\n",
    "# Para n = 25, as hipotenusas são:\n",
    "# 5, 10, 13, 15, 17, 20, 25\n",
    "# note que cada número deve ser somado apenas uma vez. Assim:\n",
    "soma_hipotenusas(25)\n",
    "# deve devolver 105"
   ],
   "cell_type": "markdown",
   "metadata": {}
  },
  {
   "cell_type": "code",
   "execution_count": null,
   "metadata": {},
   "outputs": [],
   "source": []
  }
 ]
}