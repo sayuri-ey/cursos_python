{
 "cells": [
  {
   "cell_type": "markdown",
   "id": "7169880b",
   "metadata": {},
   "source": [
    "Exercício 1 - Removendo elementos repetidos\n",
    "Escreva a função remove_repetidos que recebe como parâmetro uma lista com números inteiros, verifica se tal lista possui elementos repetidos e os remove. A função deve devolver uma lista correspondente à primeira lista, sem elementos repetidos. A lista devolvida deve estar ordenada.\n",
    "\n",
    "Dica: Você pode usar lista.sort() ou sorted(lista). Qual a diferença?\n",
    "\n",
    "Exemplo: \n",
    "\n",
    "12345\n",
    ">>>lista = [2, 4, 2, 2, 3, 3, 1]\n",
    ">>>remove_repetidos(lista)\n",
    "[1, 2, 3, 4]\n",
    ">>>remove_repetidos([1, 2, 3, 3, 3, 4])\n",
    "[1, 2, 3, 4]"
   ]
  },
  {
   "cell_type": "code",
   "execution_count": 12,
   "metadata": {},
   "outputs": [
    {
     "output_type": "stream",
     "name": "stdout",
     "text": [
      "[1, 2, 3, 4]\n"
     ]
    }
   ],
   "source": [
    "def remove_repetidos(lista):\n",
    "\n",
    "    lista=sorted(lista)\n",
    "    i=1\n",
    "    while i in range(len(lista)):\n",
    "        if lista[i] == lista [i-1]:\n",
    "            del lista[i]\n",
    "            i-=1\n",
    "        i+=1\n",
    "\n",
    "    return lista\n"
   ]
  },
  {
   "cell_type": "markdown",
   "id": "4444c0f9",
   "metadata": {},
   "source": [
    "Exercício 2 - Soma dos elementos de uma lista\n",
    "Escreva a função soma_elementos que recebe como parâmetro uma lista com números inteiros e devolve um número inteiro correspondente à soma dos elementos da lista recebida."
   ]
  },
  {
   "cell_type": "code",
   "execution_count": 16,
   "metadata": {},
   "outputs": [
    {
     "output_type": "stream",
     "name": "stdout",
     "text": [
      "10\n"
     ]
    }
   ],
   "source": [
    "def soma_elementos(lista):\n",
    "    sum=0\n",
    "    for i in lista:\n",
    "        sum+=i\n",
    "    return sum\n"
   ]
  },
  {
   "cell_type": "markdown",
   "id": "608ace4e",
   "metadata": {},
   "source": [
    "# Opcionais"
   ]
  },
  {
   "cell_type": "markdown",
   "id": "085e7e1e",
   "metadata": {},
   "source": [
    "Exercício 1 - Maior elemento de uma lista\n",
    "Escreva a função maior_elemento que recebe como parâmetro uma lista com números inteiros e devolve um número inteiro correspondente ao maior valor presente na lista recebida.\n",
    "\n"
   ]
  },
  {
   "cell_type": "markdown",
   "id": "bf8e0140",
   "metadata": {},
   "source": [
    "Exercício 2 - Invertendo sequência\n",
    "Como pedido na primeira video-aula desta semana, escreva um programa que recebe uma sequência de números inteiros e imprima todos os valores em ordem inversa. A sequência sempre termina pelo número 0. Note que 0 (ZERO) não deve fazer parte da sequência.\n",
    "\n",
    "Exemplo:\n",
    "\n",
    "12345678\n",
    "Digite um número: 1\n",
    "Digite um número: 7\n",
    "Digite um número: 4\n",
    "Digite um número: 0\n",
    "\n",
    "4\n",
    "7\n",
    "1\n",
    "How to submit\n",
    "When you're ready to submit, you can upload files for each part of the assignment on the \"My submission\" tab."
   ]
  },
  {
   "cell_type": "code",
   "execution_count": null,
   "id": "aca20dd8",
   "metadata": {},
   "outputs": [],
   "source": []
  }
 ],
 "metadata": {
  "kernelspec": {
   "name": "python3",
   "display_name": "Python 3.9.5 64-bit ('3.9')"
  },
  "language_info": {
   "codemirror_mode": {
    "name": "ipython",
    "version": 3
   },
   "file_extension": ".py",
   "mimetype": "text/x-python",
   "name": "python",
   "nbconvert_exporter": "python",
   "pygments_lexer": "ipython3",
   "version": "3.9.5"
  },
  "interpreter": {
   "hash": "7812ea015bdcee6f23a998adcdd2ef97c151c0c241b7b7070987d9313e41299d"
  }
 },
 "nbformat": 4,
 "nbformat_minor": 5
}