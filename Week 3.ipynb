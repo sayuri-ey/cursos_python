{
 "cells": [
  {
   "cell_type": "code",
   "execution_count": 11,
   "id": "29280701",
   "metadata": {},
   "outputs": [
    {
     "output_type": "stream",
     "name": "stdout",
     "text": [
      "ímpar\n"
     ]
    }
   ],
   "source": [
    "inteiro=int(input(\"Par ou Ímpar?\" ))\n",
    "\n",
    "if inteiro%2==0:\n",
    "    print(\"par\")\n",
    "else:\n",
    "    print(\"ímpar\")"
   ]
  },
  {
   "cell_type": "markdown",
   "id": "9c45ad30",
   "metadata": {},
   "source": [
    "Exercício 1 - Par ou Ímpar?\n",
    "Receba um número inteiro na entrada e imprima\n",
    "\n",
    " par \n",
    "\n",
    "quando o número for par ou\n",
    "\n",
    "ímpar\n",
    "\n",
    "quando o número for ímpar."
   ]
  },
  {
   "cell_type": "code",
   "execution_count": 4,
   "id": "b757473e",
   "metadata": {},
   "outputs": [
    {
     "name": "stdout",
     "output_type": "stream",
     "text": [
      "FizzBuzz parcial: 8\n",
      "8\n"
     ]
    }
   ],
   "source": [
    "inteiro=int(input(\"FizzBuzz parcial: \"))\n",
    "\n",
    "if inteiro%3==0:\n",
    "    print(\"Fizz\")\n",
    "else:\n",
    "    print(inteiro)"
   ]
  },
  {
   "cell_type": "markdown",
   "id": "45965d98",
   "metadata": {},
   "source": [
    "Exercícios 2 - FizzBuzz parcial, parte 1\n",
    "Receba um número inteiro na entrada e imprima \n",
    "\n",
    "Fizz\n",
    "\n",
    " se o número for divisível por 3. Caso contrário, imprima o mesmo número que foi dado na entrada.\n",
    "\n"
   ]
  },
  {
   "cell_type": "code",
   "execution_count": 6,
   "id": "a78cbc5f",
   "metadata": {},
   "outputs": [
    {
     "name": "stdout",
     "output_type": "stream",
     "text": [
      "FizzBuzz parcial: 7\n",
      "7\n"
     ]
    }
   ],
   "source": [
    "inteiro=int(input(\"FizzBuzz parcial: \"))\n",
    "\n",
    "if inteiro%5==0:\n",
    "    print(\"Buzz\")\n",
    "else:\n",
    "    print(inteiro)"
   ]
  },
  {
   "cell_type": "markdown",
   "id": "23f3e826",
   "metadata": {},
   "source": [
    "Exercícios 3 - FizzBuzz parcial, parte 2\n",
    "Receba um número inteiro na entrada e imprima\n",
    "\n",
    "Buzz\n",
    "\n",
    "se o número for divisível por 5. Caso contrário, imprima o mesmo número que foi dado na entrada."
   ]
  },
  {
   "cell_type": "code",
   "execution_count": 12,
   "id": "e3141119",
   "metadata": {},
   "outputs": [
    {
     "name": "stdout",
     "output_type": "stream",
     "text": [
      "FizzBuzz parcial: 5\n",
      "5\n"
     ]
    }
   ],
   "source": [
    "inteiro=int(input(\"FizzBuzz parcial: \"))\n",
    "\n",
    "if inteiro%3==0 and inteiro%5==0:\n",
    "    print(\"FizzBuzz\")\n",
    "else:\n",
    "    print(inteiro)"
   ]
  },
  {
   "cell_type": "markdown",
   "id": "6a0f2141",
   "metadata": {},
   "source": [
    "Exercícios 4 - FizzBuzz parcial, parte 3\n",
    "Receba um número inteiro na entrada e imprima\n",
    "\n",
    "FizzBuzz\n",
    "\n",
    "na saída se o número for divisível por 3 e por 5. Caso contrário, imprima o mesmo número que foi dado na entrada."
   ]
  },
  {
   "cell_type": "code",
   "execution_count": 15,
   "id": "b5f39c37",
   "metadata": {},
   "outputs": [
    {
     "name": "stdout",
     "output_type": "stream",
     "text": [
      "Inteiro 1: 9\n",
      "Inteiro 2: 8\n",
      "Inteiro 3: 7\n",
      "não está em ordem crescente\n"
     ]
    }
   ],
   "source": [
    "inteiro1=int(input(\"Inteiro 1: \"))\n",
    "inteiro2=int(input(\"Inteiro 2: \"))\n",
    "inteiro3=int(input(\"Inteiro 3: \"))\n",
    "\n",
    "if inteiro3>inteiro2>inteiro1:\n",
    "    print(\"crescente\")\n",
    "else:\n",
    "    print(\"não está em ordem crescente\")"
   ]
  },
  {
   "cell_type": "markdown",
   "id": "4da23e82",
   "metadata": {},
   "source": [
    "Exercício 5 - Verificando ordenação\n",
    "Receba 3 números inteiros na entrada e imprima\n",
    "\n",
    "crescente\n",
    "\n",
    "se eles forem dados em ordem crescente. Caso contrário, imprima \n",
    "\n",
    "não está em ordem crescente"
   ]
  },
  {
   "cell_type": "markdown",
   "id": "5bdc0130",
   "metadata": {},
   "source": [
    "# Opcionais"
   ]
  },
  {
   "cell_type": "code",
   "execution_count": null,
   "id": "6b562126",
   "metadata": {},
   "outputs": [],
   "source": []
  },
  {
   "cell_type": "markdown",
   "id": "64e2cacb",
   "metadata": {},
   "source": [
    "Exercício 1 - Distância entre dois pontos\n",
    "Receba 4 números na entrada, um de cada vez. Os dois primeiros devem corresponder, respectivamente, às coordenadas x e y de um ponto em um plano cartesiano. Os dois últimos devem corresponder, respectivamente, às coordenadas x e y de um outro ponto no mesmo plano.\n",
    "\n",
    "Calcule a distância entre os dois pontos. Se a distância for maior ou igual a 10, imprima\n",
    "\n",
    "longe\n",
    "\n",
    "na saída. Caso o contrário, quando a distância for menor que 10, imprima\n",
    "\n",
    "perto\n",
    "\n",
    "Dica: lembre-se que a fórmula da distância para dois pontos num plano cartesiano é a seguinte:\n",
    "\n",
    " d(x, y) = \\sqrt{(x1 - x2) ^2 + (y1 - y2)^2}"
   ]
  },
  {
   "cell_type": "code",
   "execution_count": 31,
   "id": "c08e350c",
   "metadata": {},
   "outputs": [
    {
     "output_type": "stream",
     "name": "stdout",
     "text": [
      "longe\n"
     ]
    }
   ],
   "source": [
    "x1=int(input(\"Digite o primeiro número: \"))\n",
    "y1=int(input(\"Digite o segundo número: \"))\n",
    "x2=int(input(\"Digite o terceiro número: \"))\n",
    "y2=int(input(\"Digite o quarto número: \"))\n",
    "\n",
    "distancia= ((x1-x2)**2 + (y1-y2)**2)**1/2\n",
    "\n",
    "if distancia>=10:\n",
    "    print(\"longe\")\n",
    "else:\n",
    "    print(\"perto\")"
   ]
  },
  {
   "cell_type": "markdown",
   "id": "3fe6ffb6",
   "metadata": {},
   "source": [
    "Exercício 2 - Desafio da videoaula\n",
    "Como pedido na videoaula desta semana, escreva um programa que calcula as raízes de uma equação do segundo grau.\n",
    "\n",
    "O programa deve receber os parâmetros  a a,  b b, e  c c da equação  ax^2 + bx + c ax \n",
    "2\n",
    " +bx+c, respectivamente, e imprimir o resultado na saída da seguinte maneira:\n",
    "\n",
    "Quando não houver raízes reais imprima:\n",
    "\n",
    "esta equação não possui raízes reais\n",
    "\n",
    "Quando houver apenas uma raiz (ou seja, uma raiz com multiplicidade 2) imprima:\n",
    "\n",
    "a raiz desta equação é X\n",
    "\n",
    "ou\n",
    "\n",
    "a raiz dupla desta equação é X\n",
    "\n",
    "onde X é o valor da raiz dupla\n",
    "\n",
    "Quando houver duas raízes reais imprima:\n",
    "\n",
    "as raízes da equação são X e Y\n",
    "\n",
    "onde X e Y são os valor das raízes.\n",
    "\n",
    "Além disso, no caso de existirem 2 raízes reais distintas, elas devem ser impressas em ordem crescente. Exemplos:\n",
    "\n",
    "as raízes da equação são 1.0 e 2.0\n",
    "\n",
    "as raízes da equação são -2.0 e 0.0"
   ]
  },
  {
   "cell_type": "code",
   "execution_count": 30,
   "id": "7735a247",
   "metadata": {},
   "outputs": [
    {
     "output_type": "stream",
     "name": "stdout",
     "text": [
      "as raízes da equação são 2.75 e 2.25\n"
     ]
    }
   ],
   "source": [
    "a=int(input(\"Insira o valor de a: \"))\n",
    "b=int(input(\"Insira o valor de b: \"))\n",
    "c=int(input(\"Insira o valor de c: \"))\n",
    "delta=b**2-4*a*c\n",
    "x1=(-b+(delta)**1/2)/2*a\n",
    "x2=(-b-(delta)**1/2)/2*a\n",
    "\n",
    "if delta<0:\n",
    "    print(\"esta equação não possui raízes reais\")\n",
    "elif delta==0:\n",
    "    print(\"a raiz desta equação é\",x1)\n",
    "elif delta>0:\n",
    "    aux=0\n",
    "    if x2>x1:\n",
    "        aux=x1\n",
    "        x1=x2\n",
    "        x2=aux\n",
    "    print(\"as raízes da equação são\",x1,\"e\",x2)"
   ]
  },
  {
   "cell_type": "code",
   "execution_count": 23,
   "id": "d29d0729",
   "metadata": {},
   "outputs": [
    {
     "output_type": "stream",
     "name": "stdout",
     "text": [
      "0.0\n"
     ]
    }
   ],
   "source": [
    "print(delta**1/2)"
   ]
  },
  {
   "cell_type": "code",
   "execution_count": null,
   "metadata": {},
   "outputs": [],
   "source": []
  }
 ],
 "metadata": {
  "kernelspec": {
   "name": "python3",
   "display_name": "Python 3.9.5 64-bit"
  },
  "language_info": {
   "codemirror_mode": {
    "name": "ipython",
    "version": 3
   },
   "file_extension": ".py",
   "mimetype": "text/x-python",
   "name": "python",
   "nbconvert_exporter": "python",
   "pygments_lexer": "ipython3",
   "version": "3.9.5"
  },
  "interpreter": {
   "hash": "7812ea015bdcee6f23a998adcdd2ef97c151c0c241b7b7070987d9313e41299d"
  }
 },
 "nbformat": 4,
 "nbformat_minor": 5
}